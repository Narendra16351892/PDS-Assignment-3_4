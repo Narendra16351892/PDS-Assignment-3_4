{
  "nbformat": 4,
  "nbformat_minor": 0,
  "metadata": {
    "colab": {
      "provenance": []
    },
    "kernelspec": {
      "name": "python3",
      "display_name": "Python 3"
    },
    "language_info": {
      "name": "python"
    }
  },
  "cells": [
    {
      "cell_type": "code",
      "source": [
        "import requests\n",
        "\n",
        "url = \"https://google-translate1.p.rapidapi.com/language/translate/v2/languages\"\n",
        "\n",
        "headers = {\n",
        "\t\"Accept-Encoding\": \"application/gzip\",\n",
        "\t\"X-RapidAPI-Key\": \"03f71a38a2mshad3fc617d2423ffp105086jsnbd8b6f30df08\",\n",
        "\t\"X-RapidAPI-Host\": \"google-translate1.p.rapidapi.com\"\n",
        "}\n",
        "\n",
        "response = requests.get(url, headers=headers)\n",
        "\n",
        "print(response.json())"
      ],
      "metadata": {
        "colab": {
          "base_uri": "https://localhost:8080/"
        },
        "id": "FWLRJZjx0ORv",
        "outputId": "1784e750-e541-4f5d-aac6-b78fae282fbe"
      },
      "execution_count": 23,
      "outputs": [
        {
          "output_type": "stream",
          "name": "stdout",
          "text": [
            "{'data': {'languages': [{'language': 'af'}, {'language': 'ak'}, {'language': 'am'}, {'language': 'ar'}, {'language': 'as'}, {'language': 'ay'}, {'language': 'az'}, {'language': 'be'}, {'language': 'bg'}, {'language': 'bho'}, {'language': 'bm'}, {'language': 'bn'}, {'language': 'bs'}, {'language': 'ca'}, {'language': 'ceb'}, {'language': 'ckb'}, {'language': 'co'}, {'language': 'cs'}, {'language': 'cy'}, {'language': 'da'}, {'language': 'de'}, {'language': 'doi'}, {'language': 'dv'}, {'language': 'ee'}, {'language': 'el'}, {'language': 'en'}, {'language': 'eo'}, {'language': 'es'}, {'language': 'et'}, {'language': 'eu'}, {'language': 'fa'}, {'language': 'fi'}, {'language': 'fr'}, {'language': 'fy'}, {'language': 'ga'}, {'language': 'gd'}, {'language': 'gl'}, {'language': 'gn'}, {'language': 'gom'}, {'language': 'gu'}, {'language': 'ha'}, {'language': 'haw'}, {'language': 'he'}, {'language': 'hi'}, {'language': 'hmn'}, {'language': 'hr'}, {'language': 'ht'}, {'language': 'hu'}, {'language': 'hy'}, {'language': 'id'}, {'language': 'ig'}, {'language': 'ilo'}, {'language': 'is'}, {'language': 'it'}, {'language': 'iw'}, {'language': 'ja'}, {'language': 'jv'}, {'language': 'jw'}, {'language': 'ka'}, {'language': 'kk'}, {'language': 'km'}, {'language': 'kn'}, {'language': 'ko'}, {'language': 'kri'}, {'language': 'ku'}, {'language': 'ky'}, {'language': 'la'}, {'language': 'lb'}, {'language': 'lg'}, {'language': 'ln'}, {'language': 'lo'}, {'language': 'lt'}, {'language': 'lus'}, {'language': 'lv'}, {'language': 'mai'}, {'language': 'mg'}, {'language': 'mi'}, {'language': 'mk'}, {'language': 'ml'}, {'language': 'mn'}, {'language': 'mni-Mtei'}, {'language': 'mr'}, {'language': 'ms'}, {'language': 'mt'}, {'language': 'my'}, {'language': 'ne'}, {'language': 'nl'}, {'language': 'no'}, {'language': 'nso'}, {'language': 'ny'}, {'language': 'om'}, {'language': 'or'}, {'language': 'pa'}, {'language': 'pl'}, {'language': 'ps'}, {'language': 'pt'}, {'language': 'qu'}, {'language': 'ro'}, {'language': 'ru'}, {'language': 'rw'}, {'language': 'sa'}, {'language': 'sd'}, {'language': 'si'}, {'language': 'sk'}, {'language': 'sl'}, {'language': 'sm'}, {'language': 'sn'}, {'language': 'so'}, {'language': 'sq'}, {'language': 'sr'}, {'language': 'st'}, {'language': 'su'}, {'language': 'sv'}, {'language': 'sw'}, {'language': 'ta'}, {'language': 'te'}, {'language': 'tg'}, {'language': 'th'}, {'language': 'ti'}, {'language': 'tk'}, {'language': 'tl'}, {'language': 'tr'}, {'language': 'ts'}, {'language': 'tt'}, {'language': 'ug'}, {'language': 'uk'}, {'language': 'ur'}, {'language': 'uz'}, {'language': 'vi'}, {'language': 'xh'}, {'language': 'yi'}, {'language': 'yo'}, {'language': 'zh'}, {'language': 'zh-CN'}, {'language': 'zh-TW'}, {'language': 'zu'}]}}\n"
          ]
        }
      ]
    },
    {
      "cell_type": "markdown",
      "source": [
        "Data Visualizations"
      ],
      "metadata": {
        "id": "cZldrmyCBG2t"
      }
    },
    {
      "cell_type": "code",
      "source": [
        "pip install dash"
      ],
      "metadata": {
        "colab": {
          "base_uri": "https://localhost:8080/"
        },
        "id": "gfthd7t--ZTN",
        "outputId": "db343612-fe70-4d02-c4dc-c5b082023166"
      },
      "execution_count": 24,
      "outputs": [
        {
          "output_type": "stream",
          "name": "stdout",
          "text": [
            "Requirement already satisfied: dash in /usr/local/lib/python3.10/dist-packages (2.16.1)\n",
            "Requirement already satisfied: Flask<3.1,>=1.0.4 in /usr/local/lib/python3.10/dist-packages (from dash) (2.2.5)\n",
            "Requirement already satisfied: Werkzeug<3.1 in /usr/local/lib/python3.10/dist-packages (from dash) (3.0.2)\n",
            "Requirement already satisfied: plotly>=5.0.0 in /usr/local/lib/python3.10/dist-packages (from dash) (5.15.0)\n",
            "Requirement already satisfied: dash-html-components==2.0.0 in /usr/local/lib/python3.10/dist-packages (from dash) (2.0.0)\n",
            "Requirement already satisfied: dash-core-components==2.0.0 in /usr/local/lib/python3.10/dist-packages (from dash) (2.0.0)\n",
            "Requirement already satisfied: dash-table==5.0.0 in /usr/local/lib/python3.10/dist-packages (from dash) (5.0.0)\n",
            "Requirement already satisfied: importlib-metadata in /usr/local/lib/python3.10/dist-packages (from dash) (7.1.0)\n",
            "Requirement already satisfied: typing-extensions>=4.1.1 in /usr/local/lib/python3.10/dist-packages (from dash) (4.11.0)\n",
            "Requirement already satisfied: requests in /usr/local/lib/python3.10/dist-packages (from dash) (2.31.0)\n",
            "Requirement already satisfied: retrying in /usr/local/lib/python3.10/dist-packages (from dash) (1.3.4)\n",
            "Requirement already satisfied: nest-asyncio in /usr/local/lib/python3.10/dist-packages (from dash) (1.6.0)\n",
            "Requirement already satisfied: setuptools in /usr/local/lib/python3.10/dist-packages (from dash) (67.7.2)\n",
            "Requirement already satisfied: Jinja2>=3.0 in /usr/local/lib/python3.10/dist-packages (from Flask<3.1,>=1.0.4->dash) (3.1.3)\n",
            "Requirement already satisfied: itsdangerous>=2.0 in /usr/local/lib/python3.10/dist-packages (from Flask<3.1,>=1.0.4->dash) (2.1.2)\n",
            "Requirement already satisfied: click>=8.0 in /usr/local/lib/python3.10/dist-packages (from Flask<3.1,>=1.0.4->dash) (8.1.7)\n",
            "Requirement already satisfied: tenacity>=6.2.0 in /usr/local/lib/python3.10/dist-packages (from plotly>=5.0.0->dash) (8.2.3)\n",
            "Requirement already satisfied: packaging in /usr/local/lib/python3.10/dist-packages (from plotly>=5.0.0->dash) (24.0)\n",
            "Requirement already satisfied: MarkupSafe>=2.1.1 in /usr/local/lib/python3.10/dist-packages (from Werkzeug<3.1->dash) (2.1.5)\n",
            "Requirement already satisfied: zipp>=0.5 in /usr/local/lib/python3.10/dist-packages (from importlib-metadata->dash) (3.18.1)\n",
            "Requirement already satisfied: charset-normalizer<4,>=2 in /usr/local/lib/python3.10/dist-packages (from requests->dash) (3.3.2)\n",
            "Requirement already satisfied: idna<4,>=2.5 in /usr/local/lib/python3.10/dist-packages (from requests->dash) (3.6)\n",
            "Requirement already satisfied: urllib3<3,>=1.21.1 in /usr/local/lib/python3.10/dist-packages (from requests->dash) (2.0.7)\n",
            "Requirement already satisfied: certifi>=2017.4.17 in /usr/local/lib/python3.10/dist-packages (from requests->dash) (2024.2.2)\n",
            "Requirement already satisfied: six>=1.7.0 in /usr/local/lib/python3.10/dist-packages (from retrying->dash) (1.16.0)\n"
          ]
        }
      ]
    },
    {
      "cell_type": "code",
      "source": [
        "import pandas as pd\n",
        "import requests\n",
        "\n",
        "# Fetch supported languages\n",
        "def fetch_languages():\n",
        "    url = \"https://google-translate1.p.rapidapi.com/language/translate/v2/languages\"\n",
        "    headers = {\n",
        "        \"Accept-Encoding\": \"application/gzip\",\n",
        "        \"X-RapidAPI-Key\": \"03f71a38a2mshad3fc617d2423ffp105086jsnbd8b6f30df08\",\n",
        "        \"X-RapidAPI-Host\": \"google-translate1.p.rapidapi.com\"\n",
        "    }\n",
        "    response = requests.get(url, headers=headers)\n",
        "    if response.status_code == 200:\n",
        "        return [lang['language'] for lang in response.json()['data']['languages']]\n",
        "    else:\n",
        "        return []\n",
        "\n",
        "# Create DataFrame\n",
        "df = pd.DataFrame({\n",
        "    \"Language Code\": fetch_languages()\n",
        "})\n",
        "\n",
        "# Display DataFrame\n",
        "print(df)\n"
      ],
      "metadata": {
        "colab": {
          "base_uri": "https://localhost:8080/"
        },
        "id": "5oPk8XOj1yKc",
        "outputId": "a17684c1-6c11-4ee9-ca15-15301968c136"
      },
      "execution_count": 25,
      "outputs": [
        {
          "output_type": "stream",
          "name": "stdout",
          "text": [
            "    Language Code\n",
            "0              af\n",
            "1              ak\n",
            "2              am\n",
            "3              ar\n",
            "4              as\n",
            "..            ...\n",
            "131            yo\n",
            "132            zh\n",
            "133         zh-CN\n",
            "134         zh-TW\n",
            "135            zu\n",
            "\n",
            "[136 rows x 1 columns]\n"
          ]
        }
      ]
    },
    {
      "cell_type": "code",
      "source": [
        "pip install dash"
      ],
      "metadata": {
        "colab": {
          "base_uri": "https://localhost:8080/"
        },
        "id": "vd5_UHNt1__J",
        "outputId": "e11b94ff-ac1d-4af3-cea3-416c78b749b3"
      },
      "execution_count": 7,
      "outputs": [
        {
          "output_type": "stream",
          "name": "stdout",
          "text": [
            "Collecting dash\n",
            "  Downloading dash-2.16.1-py3-none-any.whl (10.2 MB)\n",
            "\u001b[2K     \u001b[90m━━━━━━━━━━━━━━━━━━━━━━━━━━━━━━━━━━━━━━━━\u001b[0m \u001b[32m10.2/10.2 MB\u001b[0m \u001b[31m61.0 MB/s\u001b[0m eta \u001b[36m0:00:00\u001b[0m\n",
            "\u001b[?25hRequirement already satisfied: Flask<3.1,>=1.0.4 in /usr/local/lib/python3.10/dist-packages (from dash) (2.2.5)\n",
            "Requirement already satisfied: Werkzeug<3.1 in /usr/local/lib/python3.10/dist-packages (from dash) (3.0.2)\n",
            "Requirement already satisfied: plotly>=5.0.0 in /usr/local/lib/python3.10/dist-packages (from dash) (5.15.0)\n",
            "Collecting dash-html-components==2.0.0 (from dash)\n",
            "  Downloading dash_html_components-2.0.0-py3-none-any.whl (4.1 kB)\n",
            "Collecting dash-core-components==2.0.0 (from dash)\n",
            "  Downloading dash_core_components-2.0.0-py3-none-any.whl (3.8 kB)\n",
            "Collecting dash-table==5.0.0 (from dash)\n",
            "  Downloading dash_table-5.0.0-py3-none-any.whl (3.9 kB)\n",
            "Requirement already satisfied: importlib-metadata in /usr/local/lib/python3.10/dist-packages (from dash) (7.1.0)\n",
            "Requirement already satisfied: typing-extensions>=4.1.1 in /usr/local/lib/python3.10/dist-packages (from dash) (4.11.0)\n",
            "Requirement already satisfied: requests in /usr/local/lib/python3.10/dist-packages (from dash) (2.31.0)\n",
            "Collecting retrying (from dash)\n",
            "  Downloading retrying-1.3.4-py3-none-any.whl (11 kB)\n",
            "Requirement already satisfied: nest-asyncio in /usr/local/lib/python3.10/dist-packages (from dash) (1.6.0)\n",
            "Requirement already satisfied: setuptools in /usr/local/lib/python3.10/dist-packages (from dash) (67.7.2)\n",
            "Requirement already satisfied: Jinja2>=3.0 in /usr/local/lib/python3.10/dist-packages (from Flask<3.1,>=1.0.4->dash) (3.1.3)\n",
            "Requirement already satisfied: itsdangerous>=2.0 in /usr/local/lib/python3.10/dist-packages (from Flask<3.1,>=1.0.4->dash) (2.1.2)\n",
            "Requirement already satisfied: click>=8.0 in /usr/local/lib/python3.10/dist-packages (from Flask<3.1,>=1.0.4->dash) (8.1.7)\n",
            "Requirement already satisfied: tenacity>=6.2.0 in /usr/local/lib/python3.10/dist-packages (from plotly>=5.0.0->dash) (8.2.3)\n",
            "Requirement already satisfied: packaging in /usr/local/lib/python3.10/dist-packages (from plotly>=5.0.0->dash) (24.0)\n",
            "Requirement already satisfied: MarkupSafe>=2.1.1 in /usr/local/lib/python3.10/dist-packages (from Werkzeug<3.1->dash) (2.1.5)\n",
            "Requirement already satisfied: zipp>=0.5 in /usr/local/lib/python3.10/dist-packages (from importlib-metadata->dash) (3.18.1)\n",
            "Requirement already satisfied: charset-normalizer<4,>=2 in /usr/local/lib/python3.10/dist-packages (from requests->dash) (3.3.2)\n",
            "Requirement already satisfied: idna<4,>=2.5 in /usr/local/lib/python3.10/dist-packages (from requests->dash) (3.6)\n",
            "Requirement already satisfied: urllib3<3,>=1.21.1 in /usr/local/lib/python3.10/dist-packages (from requests->dash) (2.0.7)\n",
            "Requirement already satisfied: certifi>=2017.4.17 in /usr/local/lib/python3.10/dist-packages (from requests->dash) (2024.2.2)\n",
            "Requirement already satisfied: six>=1.7.0 in /usr/local/lib/python3.10/dist-packages (from retrying->dash) (1.16.0)\n",
            "Installing collected packages: dash-table, dash-html-components, dash-core-components, retrying, dash\n",
            "Successfully installed dash-2.16.1 dash-core-components-2.0.0 dash-html-components-2.0.0 dash-table-5.0.0 retrying-1.3.4\n"
          ]
        }
      ]
    },
    {
      "cell_type": "code",
      "source": [
        "\n",
        "import dash\n",
        "from dash import dcc, html\n",
        "from dash.dependencies import Input, Output\n",
        "import requests\n",
        "\n",
        "# Fetch supported languages\n",
        "def fetch_languages():\n",
        "    url = \"https://google-translate1.p.rapidapi.com/language/translate/v2/languages\"\n",
        "    headers = {\n",
        "        \"Accept-Encoding\": \"application/gzip\",\n",
        "        \"X-RapidAPI-Key\": \"03f71a38a2mshad3fc617d2423ffp105086jsnbd8b6f30df08\",\n",
        "        \"X-RapidAPI-Host\": \"google-translate1.p.rapidapi.com\"\n",
        "    }\n",
        "    response = requests.get(url, headers=headers)\n",
        "    if response.status_code == 200:\n",
        "        return response.json()['data']['languages']\n",
        "    else:\n",
        "        return []\n",
        "\n",
        "# Initialize Dash app\n",
        "app = dash.Dash(__name__)\n",
        "\n",
        "# Define app layout\n",
        "app.layout = html.Div([\n",
        "    html.H1(\"Supported Languages\"),\n",
        "    dcc.Dropdown(\n",
        "        id='language-dropdown',\n",
        "        options=[{'label': lang['language'], 'value': lang['language']} for lang in fetch_languages()],\n",
        "        multi=True,\n",
        "        placeholder=\"Select languages\"\n",
        "    ),\n",
        "    html.Div(id='selected-languages')\n",
        "])\n",
        "\n",
        "# Define callback to display selected languages\n",
        "@app.callback(\n",
        "    Output('selected-languages', 'children'),\n",
        "    [Input('language-dropdown', 'value')]\n",
        ")\n",
        "def display_selected_languages(selected_languages):\n",
        "    if selected_languages:\n",
        "        return html.Div([\n",
        "            html.H3(\"Selected Languages:\"),\n",
        "            html.Ul([html.Li(lang) for lang in selected_languages])\n",
        "        ])\n",
        "    else:\n",
        "        return html.Div()\n",
        "\n",
        "# Run the app\n",
        "if __name__ == '__main__':\n",
        "    app.run_server(debug=True)\n"
      ],
      "metadata": {
        "colab": {
          "base_uri": "https://localhost:8080/",
          "height": 671
        },
        "id": "T3udsiOd18A7",
        "outputId": "c63fd19e-11cc-44d9-f3f5-5c52c4d33ad6"
      },
      "execution_count": 8,
      "outputs": [
        {
          "output_type": "display_data",
          "data": {
            "text/plain": [
              "<IPython.core.display.Javascript object>"
            ],
            "application/javascript": [
              "(async (port, path, width, height, cache, element) => {\n",
              "    if (!google.colab.kernel.accessAllowed && !cache) {\n",
              "      return;\n",
              "    }\n",
              "    element.appendChild(document.createTextNode(''));\n",
              "    const url = await google.colab.kernel.proxyPort(port, {cache});\n",
              "    const iframe = document.createElement('iframe');\n",
              "    iframe.src = new URL(path, url).toString();\n",
              "    iframe.height = height;\n",
              "    iframe.width = width;\n",
              "    iframe.style.border = 0;\n",
              "    iframe.allow = [\n",
              "        'accelerometer',\n",
              "        'autoplay',\n",
              "        'camera',\n",
              "        'clipboard-read',\n",
              "        'clipboard-write',\n",
              "        'gyroscope',\n",
              "        'magnetometer',\n",
              "        'microphone',\n",
              "        'serial',\n",
              "        'usb',\n",
              "        'xr-spatial-tracking',\n",
              "    ].join('; ');\n",
              "    element.appendChild(iframe);\n",
              "  })(8050, \"/\", \"100%\", 650, false, window.element)"
            ]
          },
          "metadata": {}
        }
      ]
    },
    {
      "cell_type": "code",
      "source": [
        "import matplotlib.pyplot as plt\n",
        "import pandas as pd\n",
        "import requests\n",
        "\n",
        "# Fetch supported languages\n",
        "def fetch_languages():\n",
        "    url = \"https://google-translate1.p.rapidapi.com/language/translate/v2/languages\"\n",
        "    headers = {\n",
        "        \"Accept-Encoding\": \"application/gzip\",\n",
        "        \"X-RapidAPI-Key\": \"03f71a38a2mshad3fc617d2423ffp105086jsnbd8b6f30df08\",\n",
        "        \"X-RapidAPI-Host\": \"google-translate1.p.rapidapi.com\"\n",
        "    }\n",
        "    response = requests.get(url, headers=headers)\n",
        "    if response.status_code == 200:\n",
        "        return [lang['language'] for lang in response.json()['data']['languages']]\n",
        "    else:\n",
        "        return []\n",
        "\n",
        "# Create DataFrame\n",
        "languages = fetch_languages()\n",
        "df = pd.DataFrame({\n",
        "    \"Language Code\": languages\n",
        "})\n",
        "\n",
        "# Calculate lengths of language codes\n",
        "df['Code Length'] = df['Language Code'].apply(len)\n",
        "\n",
        "# Data visualization\n",
        "plt.figure(figsize=(8, 6))\n",
        "plt.boxplot(df['Code Length'], vert=False)\n",
        "plt.title('Box Plot of Language Code Lengths')\n",
        "plt.xlabel('Length')\n",
        "plt.grid(True)\n",
        "plt.show()\n"
      ],
      "metadata": {
        "colab": {
          "base_uri": "https://localhost:8080/",
          "height": 564
        },
        "id": "-KWiTcNp3iUF",
        "outputId": "26ff6ad9-f5ba-4bfd-c4db-ed220a1be0c2"
      },
      "execution_count": 20,
      "outputs": [
        {
          "output_type": "display_data",
          "data": {
            "text/plain": [
              "<Figure size 800x600 with 1 Axes>"
            ],
            "image/png": "[encoded data removed]"
          },
          "metadata": {}
        }
      ]
    },
    {
      "cell_type": "code",
      "source": [
        "import matplotlib.pyplot as plt\n",
        "import pandas as pd\n",
        "import requests\n",
        "\n",
        "# Fetch supported languages\n",
        "def fetch_languages():\n",
        "    url = \"https://google-translate1.p.rapidapi.com/language/translate/v2/languages\"\n",
        "    headers = {\n",
        "        \"Accept-Encoding\": \"application/gzip\",\n",
        "        \"X-RapidAPI-Key\": \"03f71a38a2mshad3fc617d2423ffp105086jsnbd8b6f30df08\",\n",
        "        \"X-RapidAPI-Host\": \"google-translate1.p.rapidapi.com\"\n",
        "    }\n",
        "    response = requests.get(url, headers=headers)\n",
        "    if response.status_code == 200:\n",
        "        return [lang['language'] for lang in response.json()['data']['languages']]\n",
        "    else:\n",
        "        return []\n",
        "\n",
        "# Create DataFrame\n",
        "languages = fetch_languages()\n",
        "df = pd.DataFrame({\n",
        "    \"Language Code\": languages\n",
        "})\n",
        "\n",
        "# Calculate counts of each language code\n",
        "language_counts = df['Language Code'].value_counts()\n",
        "\n",
        "# Data visualization\n",
        "plt.figure(figsize=(10, 6))\n",
        "plt.boxplot(language_counts, vert=False)\n",
        "plt.title('Box Plot of Language Code Frequencies')\n",
        "plt.xlabel('Frequency')\n",
        "plt.ylabel('Language Code')\n",
        "plt.grid(True)\n",
        "plt.show()\n"
      ],
      "metadata": {
        "colab": {
          "base_uri": "https://localhost:8080/",
          "height": 564
        },
        "id": "jGu2GyFj4jeh",
        "outputId": "f3c808f5-300b-4660-a990-a892d9b262c7"
      },
      "execution_count": 21,
      "outputs": [
        {
          "output_type": "display_data",
          "data": {
            "text/plain": [
              "<Figure size 1000x600 with 1 Axes>"
            ],
            "image/png": "[encoded data removed]"
          },
          "metadata": {}
        }
      ]
    },
    {
      "cell_type": "code",
      "source": [
        "import matplotlib.pyplot as plt\n",
        "import pandas as pd\n",
        "import requests\n",
        "\n",
        "# Fetch supported languages\n",
        "def fetch_languages():\n",
        "    url = \"https://google-translate1.p.rapidapi.com/language/translate/v2/languages\"\n",
        "    headers = {\n",
        "        \"Accept-Encoding\": \"application/gzip\",\n",
        "        \"X-RapidAPI-Key\": \"03f71a38a2mshad3fc617d2423ffp105086jsnbd8b6f30df08\",\n",
        "        \"X-RapidAPI-Host\": \"google-translate1.p.rapidapi.com\"\n",
        "    }\n",
        "    response = requests.get(url, headers=headers)\n",
        "    if response.status_code == 200:\n",
        "        return [lang['language'] for lang in response.json()['data']['languages']]\n",
        "    else:\n",
        "        return []\n",
        "\n",
        "# Create DataFrame\n",
        "languages = fetch_languages()\n",
        "df = pd.DataFrame({\n",
        "    \"Language Code\": languages\n",
        "})\n",
        "\n",
        "# Calculate lengths of language codes\n",
        "df['Code Length'] = df['Language Code'].apply(len)\n",
        "\n",
        "# Calculate frequency of each language code\n",
        "language_counts = df['Language Code'].value_counts()\n",
        "df['Frequency'] = df['Language Code'].map(language_counts)\n",
        "\n",
        "# Calculate average frequency for each length category\n",
        "avg_frequency_by_length = df.groupby('Code Length')['Frequency'].mean()\n",
        "\n",
        "# Data visualization\n",
        "plt.figure(figsize=(10, 6))\n",
        "avg_frequency_by_length.plot(kind='bar', color='skyblue')\n",
        "plt.title('Average Frequency of Language Code by Length')\n",
        "plt.xlabel('Length of Language Code')\n",
        "plt.ylabel('Average Frequency')\n",
        "plt.xticks(rotation=0)\n",
        "plt.grid(axis='y')\n",
        "plt.tight_layout()\n",
        "plt.show()\n"
      ],
      "metadata": {
        "colab": {
          "base_uri": "https://localhost:8080/",
          "height": 607
        },
        "id": "l8DM7O7P5Z_B",
        "outputId": "aac530e3-5f5e-4ccf-df92-8e37cefb53ae"
      },
      "execution_count": 22,
      "outputs": [
        {
          "output_type": "display_data",
          "data": {
            "text/plain": [
              "<Figure size 1000x600 with 1 Axes>"
            ],
            "image/png": "[encoded data removed]"
          },
          "metadata": {}
        }
      ]
    },
    {
      "cell_type": "markdown",
      "source": [],
      "metadata": {
        "id": "7kIookOP17s4"
      }
    }
  ]
}